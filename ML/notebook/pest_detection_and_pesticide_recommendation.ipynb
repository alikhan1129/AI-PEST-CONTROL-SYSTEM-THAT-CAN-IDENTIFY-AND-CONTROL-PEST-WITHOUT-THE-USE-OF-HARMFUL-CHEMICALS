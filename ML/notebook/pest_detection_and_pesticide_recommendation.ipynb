{
 "cells": [
  {
   "cell_type": "code",
   "execution_count": 2,
   "id": "4b8bca39",
   "metadata": {},
   "outputs": [
    {
     "name": "stdout",
     "output_type": "stream",
     "text": [
      "\n",
      "✅ All folders are now balanced to 500 images each!\n"
     ]
    }
   ],
   "source": [
    "import os\n",
    "import random\n",
    "from tensorflow.keras.preprocessing.image import ImageDataGenerator, img_to_array, load_img, array_to_img\n",
    "\n",
    "# Paths\n",
    "base_dir = \"C:\\\\Users\\\\alikh\\\\OneDrive\\\\mlprojects\\\\agriculture pests image dataset\"  # <-- CHANGE this to your pest dataset folder\n",
    "\n",
    "# Image augmentation settings\n",
    "datagen = ImageDataGenerator(\n",
    "    rotation_range=30,\n",
    "    width_shift_range=0.1,\n",
    "    height_shift_range=0.1,\n",
    "    shear_range=0.2,\n",
    "    zoom_range=0.2,\n",
    "    horizontal_flip=True,\n",
    "    fill_mode='nearest'\n",
    ")\n",
    "\n",
    "# Target image count for all folders\n",
    "target_count = 500\n",
    "\n",
    "# Find image counts per folder\n",
    "folder_counts = {}\n",
    "for folder in os.listdir(base_dir):\n",
    "    folder_path = os.path.join(base_dir, folder)\n",
    "    if os.path.isdir(folder_path):\n",
    "        folder_counts[folder] = len([f for f in os.listdir(folder_path) if f.lower().endswith(('png', 'jpg', 'jpeg'))])\n",
    "\n",
    "# Augment images where needed\n",
    "for folder, count in folder_counts.items():\n",
    "    folder_path = os.path.join(base_dir, folder)\n",
    "    if count < target_count:\n",
    "        images = [f for f in os.listdir(folder_path) if f.lower().endswith(('png', 'jpg', 'jpeg'))]\n",
    "        images_needed = target_count - count\n",
    "        print(f\"Augmenting '{folder}' ({count} images) to reach {target_count} images...\")\n",
    "\n",
    "        for _ in range(images_needed):\n",
    "            img_name = random.choice(images)\n",
    "            img_path = os.path.join(folder_path, img_name)\n",
    "\n",
    "            img = load_img(img_path)\n",
    "            x = img_to_array(img)\n",
    "            x = x.reshape((1,) + x.shape)\n",
    "\n",
    "            for batch in datagen.flow(x, batch_size=1):\n",
    "                new_filename = f\"aug_{random.randint(10000,99999)}_{img_name}\"\n",
    "                new_filepath = os.path.join(folder_path, new_filename)\n",
    "                array_to_img(batch[0]).save(new_filepath)\n",
    "                break  # Only one image generated per loop\n",
    "\n",
    "print(\"\\n✅ All folders are now balanced to 500 images each!\")\n"
   ]
  },
  {
   "cell_type": "markdown",
   "id": "a896674d",
   "metadata": {},
   "source": [
    "Augmenting 'ants' (499 images) to reach 500 images...\n",
    "Augmenting 'beetle' (416 images) to reach 500 images...\n",
    "Augmenting 'catterpillar' (434 images) to reach 500 images...\n",
    "Augmenting 'earthworms' (323 images) to reach 500 images...\n",
    "Augmenting 'earwig' (466 images) to reach 500 images...\n",
    "Augmenting 'grasshopper' (485 images) to reach 500 images...\n",
    "Augmenting 'moth' (497 images) to reach 500 images...\n",
    "Augmenting 'slug' (391 images) to reach 500 images...\n",
    "Augmenting 'wasp' (498 images) to reach 500 images...\n",
    "Augmenting 'weevil' (485 images) to reach 500 images...\n",
    "\n",
    "✅ All folders are now balanced to 500 images each!"
   ]
  },
  {
   "cell_type": "code",
   "execution_count": 3,
   "id": "37d9eba7",
   "metadata": {},
   "outputs": [
    {
     "name": "stdout",
     "output_type": "stream",
     "text": [
      "Found 4800 images belonging to 12 classes.\n",
      "Found 1200 images belonging to 12 classes.\n",
      "Epoch 1/15\n"
     ]
    },
    {
     "name": "stderr",
     "output_type": "stream",
     "text": [
      "c:\\Users\\alikh\\AppData\\Local\\Programs\\Python\\Python312\\Lib\\site-packages\\keras\\src\\trainers\\data_adapters\\py_dataset_adapter.py:121: UserWarning: Your `PyDataset` class should call `super().__init__(**kwargs)` in its constructor. `**kwargs` can include `workers`, `use_multiprocessing`, `max_queue_size`. Do not pass these arguments to `fit()`, as they will be ignored.\n",
      "  self._warn_if_super_not_called()\n"
     ]
    },
    {
     "name": "stdout",
     "output_type": "stream",
     "text": [
      "\u001b[1m150/150\u001b[0m \u001b[32m━━━━━━━━━━━━━━━━━━━━\u001b[0m\u001b[37m\u001b[0m \u001b[1m242s\u001b[0m 2s/step - accuracy: 0.2001 - loss: 2.4907 - val_accuracy: 0.6725 - val_loss: 1.2721\n",
      "Epoch 2/15\n",
      "\u001b[1m150/150\u001b[0m \u001b[32m━━━━━━━━━━━━━━━━━━━━\u001b[0m\u001b[37m\u001b[0m \u001b[1m236s\u001b[0m 2s/step - accuracy: 0.5882 - loss: 1.3603 - val_accuracy: 0.7433 - val_loss: 0.8891\n",
      "Epoch 3/15\n",
      "\u001b[1m150/150\u001b[0m \u001b[32m━━━━━━━━━━━━━━━━━━━━\u001b[0m\u001b[37m\u001b[0m \u001b[1m244s\u001b[0m 2s/step - accuracy: 0.6689 - loss: 1.0437 - val_accuracy: 0.7858 - val_loss: 0.7165\n",
      "Epoch 4/15\n",
      "\u001b[1m150/150\u001b[0m \u001b[32m━━━━━━━━━━━━━━━━━━━━\u001b[0m\u001b[37m\u001b[0m \u001b[1m197s\u001b[0m 1s/step - accuracy: 0.7326 - loss: 0.8692 - val_accuracy: 0.8017 - val_loss: 0.6432\n",
      "Epoch 5/15\n",
      "\u001b[1m150/150\u001b[0m \u001b[32m━━━━━━━━━━━━━━━━━━━━\u001b[0m\u001b[37m\u001b[0m \u001b[1m190s\u001b[0m 1s/step - accuracy: 0.7540 - loss: 0.7982 - val_accuracy: 0.8092 - val_loss: 0.6026\n",
      "Epoch 6/15\n",
      "\u001b[1m150/150\u001b[0m \u001b[32m━━━━━━━━━━━━━━━━━━━━\u001b[0m\u001b[37m\u001b[0m \u001b[1m250s\u001b[0m 2s/step - accuracy: 0.7574 - loss: 0.7446 - val_accuracy: 0.7942 - val_loss: 0.5859\n",
      "Epoch 7/15\n",
      "\u001b[1m150/150\u001b[0m \u001b[32m━━━━━━━━━━━━━━━━━━━━\u001b[0m\u001b[37m\u001b[0m \u001b[1m227s\u001b[0m 1s/step - accuracy: 0.7822 - loss: 0.7067 - val_accuracy: 0.8092 - val_loss: 0.5582\n",
      "Epoch 8/15\n",
      "\u001b[1m150/150\u001b[0m \u001b[32m━━━━━━━━━━━━━━━━━━━━\u001b[0m\u001b[37m\u001b[0m \u001b[1m225s\u001b[0m 1s/step - accuracy: 0.7797 - loss: 0.6750 - val_accuracy: 0.8175 - val_loss: 0.5437\n",
      "Epoch 9/15\n",
      "\u001b[1m150/150\u001b[0m \u001b[32m━━━━━━━━━━━━━━━━━━━━\u001b[0m\u001b[37m\u001b[0m \u001b[1m225s\u001b[0m 1s/step - accuracy: 0.7807 - loss: 0.6536 - val_accuracy: 0.8275 - val_loss: 0.5161\n",
      "Epoch 10/15\n",
      "\u001b[1m150/150\u001b[0m \u001b[32m━━━━━━━━━━━━━━━━━━━━\u001b[0m\u001b[37m\u001b[0m \u001b[1m226s\u001b[0m 1s/step - accuracy: 0.7958 - loss: 0.6224 - val_accuracy: 0.8275 - val_loss: 0.5171\n",
      "Epoch 11/15\n",
      "\u001b[1m150/150\u001b[0m \u001b[32m━━━━━━━━━━━━━━━━━━━━\u001b[0m\u001b[37m\u001b[0m \u001b[1m251s\u001b[0m 2s/step - accuracy: 0.8069 - loss: 0.5881 - val_accuracy: 0.8250 - val_loss: 0.4881\n",
      "Epoch 12/15\n",
      "\u001b[1m150/150\u001b[0m \u001b[32m━━━━━━━━━━━━━━━━━━━━\u001b[0m\u001b[37m\u001b[0m \u001b[1m224s\u001b[0m 1s/step - accuracy: 0.8109 - loss: 0.5737 - val_accuracy: 0.8408 - val_loss: 0.4889\n",
      "Epoch 13/15\n",
      "\u001b[1m150/150\u001b[0m \u001b[32m━━━━━━━━━━━━━━━━━━━━\u001b[0m\u001b[37m\u001b[0m \u001b[1m240s\u001b[0m 2s/step - accuracy: 0.8159 - loss: 0.5478 - val_accuracy: 0.8375 - val_loss: 0.4856\n",
      "Epoch 14/15\n",
      "\u001b[1m150/150\u001b[0m \u001b[32m━━━━━━━━━━━━━━━━━━━━\u001b[0m\u001b[37m\u001b[0m \u001b[1m215s\u001b[0m 1s/step - accuracy: 0.8130 - loss: 0.5598 - val_accuracy: 0.8408 - val_loss: 0.4864\n",
      "Epoch 15/15\n",
      "\u001b[1m150/150\u001b[0m \u001b[32m━━━━━━━━━━━━━━━━━━━━\u001b[0m\u001b[37m\u001b[0m \u001b[1m268s\u001b[0m 2s/step - accuracy: 0.8089 - loss: 0.5774 - val_accuracy: 0.8500 - val_loss: 0.4716\n"
     ]
    },
    {
     "name": "stderr",
     "output_type": "stream",
     "text": [
      "WARNING:absl:You are saving your model as an HDF5 file via `model.save()` or `keras.saving.save_model(model)`. This file format is considered legacy. We recommend using instead the native Keras format, e.g. `model.save('my_model.keras')` or `keras.saving.save_model(model, 'my_model.keras')`. \n"
     ]
    },
    {
     "name": "stdout",
     "output_type": "stream",
     "text": [
      "Training Complete and Model Saved!\n"
     ]
    }
   ],
   "source": [
    "\n",
    "\n",
    "import tensorflow as tf\n",
    "from tensorflow.keras.preprocessing.image import ImageDataGenerator\n",
    "from tensorflow.keras.models import Model\n",
    "from tensorflow.keras.layers import Dense, GlobalAveragePooling2D, Dropout\n",
    "from tensorflow.keras.optimizers import Adam\n",
    "import os\n",
    "\n",
    "# Set your image size and paths\n",
    "IMG_SIZE = 224\n",
    "BATCH_SIZE = 32\n",
    "NUM_CLASSES = 12   # Change according to your number of pest categories\n",
    "DATA_DIR = \"C:\\\\Users\\\\alikh\\\\OneDrive\\\\mlprojects\\\\agriculture pests image dataset\"  # Folder with subfolders per class (Ant, Bee, etc.)\n",
    "\n",
    "# 1. Data Augmentation and Data Loading\n",
    "train_datagen = ImageDataGenerator(\n",
    "    rescale=1./255,\n",
    "    rotation_range=30,\n",
    "    zoom_range=0.2,\n",
    "    horizontal_flip=True,\n",
    "    validation_split=0.2  # 80% train, 20% validation\n",
    ")\n",
    "\n",
    "train_generator = train_datagen.flow_from_directory(\n",
    "    DATA_DIR,\n",
    "    target_size=(IMG_SIZE, IMG_SIZE),\n",
    "    batch_size=BATCH_SIZE,\n",
    "    class_mode='categorical',\n",
    "    subset='training'\n",
    ")\n",
    "\n",
    "validation_generator = train_datagen.flow_from_directory(\n",
    "    DATA_DIR,\n",
    "    target_size=(IMG_SIZE, IMG_SIZE),\n",
    "    batch_size=BATCH_SIZE,\n",
    "    class_mode='categorical',\n",
    "    subset='validation'\n",
    ")\n",
    "\n",
    "# 2. Load Pre-trained MobileNetV2\n",
    "base_model = tf.keras.applications.MobileNetV2(\n",
    "    input_shape=(IMG_SIZE, IMG_SIZE, 3),\n",
    "    include_top=False,\n",
    "    weights='imagenet'  # Use pre-trained on ImageNet\n",
    ")\n",
    "\n",
    "# Freeze the base model layers\n",
    "base_model.trainable = False\n",
    "\n",
    "# 3. Add custom classification head\n",
    "x = base_model.output\n",
    "x = GlobalAveragePooling2D()(x)\n",
    "x = Dropout(0.3)(x)\n",
    "x = Dense(128, activation='relu')(x)\n",
    "x = Dropout(0.2)(x)\n",
    "predictions = Dense(NUM_CLASSES, activation='softmax')(x)\n",
    "\n",
    "model = Model(inputs=base_model.input, outputs=predictions)\n",
    "\n",
    "# 4. Compile the Model\n",
    "model.compile(optimizer=Adam(learning_rate=0.0001),\n",
    "              loss='categorical_crossentropy',\n",
    "              metrics=['accuracy'])\n",
    "\n",
    "# 5. Train the Model\n",
    "history = model.fit(\n",
    "    train_generator,\n",
    "    epochs=15,\n",
    "    validation_data=validation_generator\n",
    ")\n",
    "\n",
    "# 6. Save the Model\n",
    "model.save('pest_identifier_mobilenetv2.h5')\n",
    "\n",
    "print(\"Training Complete and Model Saved!\")"
   ]
  },
  {
   "cell_type": "code",
   "execution_count": 4,
   "id": "8669694d",
   "metadata": {},
   "outputs": [],
   "source": [
    "# Unfreeze some layers of the base MobileNetV2 model\n",
    "base_model.trainable = True\n",
    "\n",
    "# OPTIONAL: Freeze very early layers if you want\n",
    "# Fine-tuning only the last few layers is often better\n",
    "for layer in base_model.layers[:100]:  # Freeze first 100 layers\n",
    "    layer.trainable = False"
   ]
  },
  {
   "cell_type": "code",
   "execution_count": 5,
   "id": "1892dbb3",
   "metadata": {},
   "outputs": [],
   "source": [
    "# Re-compile with a LOWER learning rate\n",
    "model.compile(\n",
    "    optimizer=tf.keras.optimizers.Adam(learning_rate=1e-5),  # Lower LR for fine-tuning\n",
    "    loss='categorical_crossentropy',\n",
    "    metrics=['accuracy']\n",
    ")"
   ]
  },
  {
   "cell_type": "code",
   "execution_count": 6,
   "id": "9d94503f",
   "metadata": {},
   "outputs": [
    {
     "name": "stdout",
     "output_type": "stream",
     "text": [
      "Epoch 1/5\n",
      "\u001b[1m150/150\u001b[0m \u001b[32m━━━━━━━━━━━━━━━━━━━━\u001b[0m\u001b[37m\u001b[0m \u001b[1m374s\u001b[0m 2s/step - accuracy: 0.6897 - loss: 0.9672 - val_accuracy: 0.8383 - val_loss: 0.4811\n",
      "Epoch 2/5\n",
      "\u001b[1m150/150\u001b[0m \u001b[32m━━━━━━━━━━━━━━━━━━━━\u001b[0m\u001b[37m\u001b[0m \u001b[1m320s\u001b[0m 2s/step - accuracy: 0.7754 - loss: 0.6775 - val_accuracy: 0.8417 - val_loss: 0.4680\n",
      "Epoch 3/5\n",
      "\u001b[1m150/150\u001b[0m \u001b[32m━━━━━━━━━━━━━━━━━━━━\u001b[0m\u001b[37m\u001b[0m \u001b[1m361s\u001b[0m 2s/step - accuracy: 0.8052 - loss: 0.5963 - val_accuracy: 0.8433 - val_loss: 0.4797\n",
      "Epoch 4/5\n",
      "\u001b[1m150/150\u001b[0m \u001b[32m━━━━━━━━━━━━━━━━━━━━\u001b[0m\u001b[37m\u001b[0m \u001b[1m334s\u001b[0m 2s/step - accuracy: 0.8173 - loss: 0.5447 - val_accuracy: 0.8558 - val_loss: 0.4375\n",
      "Epoch 5/5\n",
      "\u001b[1m150/150\u001b[0m \u001b[32m━━━━━━━━━━━━━━━━━━━━\u001b[0m\u001b[37m\u001b[0m \u001b[1m297s\u001b[0m 2s/step - accuracy: 0.8211 - loss: 0.5314 - val_accuracy: 0.8533 - val_loss: 0.4174\n"
     ]
    }
   ],
   "source": [
    "# Fine-tune the model\n",
    "history_finetune = model.fit(\n",
    "    train_generator,\n",
    "    epochs=5,   # 5 or 10 more fine-tuning epochs\n",
    "    validation_data=validation_generator\n",
    ")"
   ]
  },
  {
   "cell_type": "code",
   "execution_count": 10,
   "id": "3fef996f",
   "metadata": {},
   "outputs": [
    {
     "name": "stderr",
     "output_type": "stream",
     "text": [
      "WARNING:absl:You are saving your model as an HDF5 file via `model.save()` or `keras.saving.save_model(model)`. This file format is considered legacy. We recommend using instead the native Keras format, e.g. `model.save('my_model.keras')` or `keras.saving.save_model(model, 'my_model.keras')`. \n"
     ]
    },
    {
     "name": "stdout",
     "output_type": "stream",
     "text": [
      "Fine-tuning Complete and Model Saved!\n"
     ]
    }
   ],
   "source": [
    "# Save the fine-tuned model\n",
    "model.save('pest_identifier_mobilenetv2_finetuned.h5')\n",
    "\n",
    "print(\"Fine-tuning Complete and Model Saved!\")"
   ]
  },
  {
   "cell_type": "code",
   "execution_count": 3,
   "id": "9a08d862",
   "metadata": {},
   "outputs": [
    {
     "name": "stderr",
     "output_type": "stream",
     "text": [
      "WARNING:absl:Compiled the loaded model, but the compiled metrics have yet to be built. `model.compile_metrics` will be empty until you train or evaluate the model.\n"
     ]
    },
    {
     "name": "stdout",
     "output_type": "stream",
     "text": [
      "\u001b[1m1/1\u001b[0m \u001b[32m━━━━━━━━━━━━━━━━━━━━\u001b[0m\u001b[37m\u001b[0m \u001b[1m3s\u001b[0m 3s/step\n",
      "Predicted Pest: Slug\n",
      "Recommended Natural Pesticide: Iron Phosphate Pellets\n"
     ]
    },
    {
     "data": {
      "image/png": "[encoded data removed]",
      "text/plain": [
       "<Figure size 640x480 with 1 Axes>"
      ]
     },
     "metadata": {},
     "output_type": "display_data"
    }
   ],
   "source": [
    "import tensorflow as tf\n",
    "import numpy as np\n",
    "import pandas as pd\n",
    "from tensorflow.keras.preprocessing import image\n",
    "import matplotlib.pyplot as plt\n",
    "\n",
    "# Load your fine-tuned model\n",
    "model = tf.keras.models.load_model('pest_identifier_mobilenetv2_finetuned.h5')\n",
    "\n",
    "# Load the pesticide CSV\n",
    "pesticide_df = pd.read_csv(\"C:\\\\Users\\\\alikh\\\\OneDrive\\\\mlprojects\\\\agriculture pests image dataset\\\\natural_pesticides.csv\")  # <- Replace with your actual CSV file name\n",
    "\n",
    "# Make dictionary { pest_name: pesticide_name }\n",
    "pest_to_pesticide = dict(zip(pesticide_df['Pest'], pesticide_df['Pesticide (Natural/Non-Harmful)']))\n",
    "\n",
    "# Your class labels (ensure it matches model training order)\n",
    "class_labels = [\n",
    "    'ant', 'bees', 'beetle', 'catterpillar', 'earthworm', \n",
    "    'earwig', 'grasshopper', 'moth', 'slug', 'snail', \n",
    "    'wasp', 'weevil'\n",
    "]\n",
    "\n",
    "def predict_pest(image_path):\n",
    "    # Load and preprocess the image\n",
    "    img = image.load_img(image_path, target_size=(224, 224))  # MobileNetV2 expects 224x224\n",
    "    img_array = image.img_to_array(img)\n",
    "    img_array = np.expand_dims(img_array, axis=0)  # Add batch dimension\n",
    "    img_array = tf.keras.applications.mobilenet_v2.preprocess_input(img_array)\n",
    "\n",
    "    # Make prediction\n",
    "    predictions = model.predict(img_array)\n",
    "    predicted_index = np.argmax(predictions[0])\n",
    "    predicted_pest = class_labels[predicted_index]\n",
    "    \n",
    "    # Find corresponding pesticide\n",
    "    pesticide = pest_to_pesticide.get(predicted_pest, \"No pesticide found\")\n",
    "\n",
    "    # Show result\n",
    "    print(f\"Predicted Pest: {predicted_pest.capitalize()}\")\n",
    "    print(f\"Recommended Natural Pesticide: {pesticide}\")\n",
    "\n",
    "    # Optionally display the image\n",
    "    plt.imshow(img)\n",
    "    plt.axis('off')\n",
    "    plt.title(f\"{predicted_pest.capitalize()} - {pesticide}\")\n",
    "    plt.show()\n",
    "\n",
    "# 5. Example Usage:\n",
    "img_path = \"C:\\\\Users\\\\alikh\\\\Downloads\\\\slug.jpg\"# Replace with your image path\n",
    "# Example usage\n",
    "predict_pest(img_path)"
   ]
  }
 ],
 "metadata": {
  "kernelspec": {
   "display_name": "Python 3",
   "language": "python",
   "name": "python3"
  },
  "language_info": {
   "codemirror_mode": {
    "name": "ipython",
    "version": 3
   },
   "file_extension": ".py",
   "mimetype": "text/x-python",
   "name": "python",
   "nbconvert_exporter": "python",
   "pygments_lexer": "ipython3",
   "version": "3.12.1"
  }
 },
 "nbformat": 4,
 "nbformat_minor": 5
}
